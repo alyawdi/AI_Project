{
  "cells": [
    {
      "cell_type": "markdown",
      "metadata": {
        "id": "view-in-github",
        "colab_type": "text"
      },
      "source": [
        "<a href=\"https://colab.research.google.com/github/alyawdi/AI_Project/blob/main/randomForest.ipynb\" target=\"_parent\"><img src=\"https://colab.research.google.com/assets/colab-badge.svg\" alt=\"Open In Colab\"/></a>"
      ]
    },
    {
      "cell_type": "code",
      "execution_count": 1,
      "metadata": {
        "id": "lq9plrOmXmR-"
      },
      "outputs": [],
      "source": [
        "import pandas as pd\n",
        "import numpy as np\n",
        "import seaborn as sns\n",
        "import matplotlib.pyplot as plt\n",
        "from tabulate import tabulate\n",
        "from sklearn.model_selection import train_test_split\n",
        "from sklearn.tree import DecisionTreeClassifier\n",
        "from sklearn.tree import DecisionTreeClassifier  # Alias for ID3 (information gain)\n",
        "from sklearn.neighbors import KNeighborsClassifier\n",
        "from sklearn.metrics import accuracy_score\n",
        "\n",
        "\n",
        "# from sklearn.model_selection import train_test_split\n",
        "# from sklearn.neighbors import KNeighborsClassifier\n",
        "# from sklearn.metrics import confusion_matrix\n",
        "# from sklearn.metrics import classification_report\n"
      ]
    },
    {
      "cell_type": "code",
      "execution_count": 2,
      "metadata": {
        "id": "f9WcmbDjXmSA",
        "outputId": "2426bcfb-5a8f-4f66-d3c8-4a12b967c76d",
        "colab": {
          "base_uri": "https://localhost:8080/",
          "height": 535
        }
      },
      "outputs": [
        {
          "output_type": "stream",
          "name": "stdout",
          "text": [
            "<class 'pandas.core.frame.DataFrame'>\n",
            "RangeIndex: 70000 entries, 0 to 69999\n",
            "Data columns (total 13 columns):\n",
            " #   Column       Non-Null Count  Dtype  \n",
            "---  ------       --------------  -----  \n",
            " 0   id           70000 non-null  int64  \n",
            " 1   age          70000 non-null  int64  \n",
            " 2   gender       70000 non-null  int64  \n",
            " 3   height       70000 non-null  int64  \n",
            " 4   weight       70000 non-null  float64\n",
            " 5   ap_hi        70000 non-null  int64  \n",
            " 6   ap_lo        70000 non-null  int64  \n",
            " 7   cholesterol  70000 non-null  int64  \n",
            " 8   gluc         70000 non-null  int64  \n",
            " 9   smoke        70000 non-null  int64  \n",
            " 10  alco         70000 non-null  int64  \n",
            " 11  active       70000 non-null  int64  \n",
            " 12  cardio       70000 non-null  int64  \n",
            "dtypes: float64(1), int64(12)\n",
            "memory usage: 6.9 MB\n"
          ]
        },
        {
          "output_type": "execute_result",
          "data": {
            "text/plain": [
              "<bound method NDFrame.describe of           id    age  gender  height  weight  ap_hi  ap_lo  cholesterol  gluc  \\\n",
              "0          0  18393       2     168    62.0    110     80            1     1   \n",
              "1          1  20228       1     156    85.0    140     90            3     1   \n",
              "2          2  18857       1     165    64.0    130     70            3     1   \n",
              "3          3  17623       2     169    82.0    150    100            1     1   \n",
              "4          4  17474       1     156    56.0    100     60            1     1   \n",
              "...      ...    ...     ...     ...     ...    ...    ...          ...   ...   \n",
              "69995  99993  19240       2     168    76.0    120     80            1     1   \n",
              "69996  99995  22601       1     158   126.0    140     90            2     2   \n",
              "69997  99996  19066       2     183   105.0    180     90            3     1   \n",
              "69998  99998  22431       1     163    72.0    135     80            1     2   \n",
              "69999  99999  20540       1     170    72.0    120     80            2     1   \n",
              "\n",
              "       smoke  alco  active  cardio  \n",
              "0          0     0       1       0  \n",
              "1          0     0       1       1  \n",
              "2          0     0       0       1  \n",
              "3          0     0       1       1  \n",
              "4          0     0       0       0  \n",
              "...      ...   ...     ...     ...  \n",
              "69995      1     0       1       0  \n",
              "69996      0     0       1       1  \n",
              "69997      0     1       0       1  \n",
              "69998      0     0       0       1  \n",
              "69999      0     0       1       0  \n",
              "\n",
              "[70000 rows x 13 columns]>"
            ],
            "text/html": [
              "<div style=\"max-width:800px; border: 1px solid var(--colab-border-color);\"><style>\n",
              "      pre.function-repr-contents {\n",
              "        overflow-x: auto;\n",
              "        padding: 8px 12px;\n",
              "        max-height: 500px;\n",
              "      }\n",
              "\n",
              "      pre.function-repr-contents.function-repr-contents-collapsed {\n",
              "        cursor: pointer;\n",
              "        max-height: 100px;\n",
              "      }\n",
              "    </style>\n",
              "    <pre style=\"white-space: initial; background:\n",
              "         var(--colab-secondary-surface-color); padding: 8px 12px;\n",
              "         border-bottom: 1px solid var(--colab-border-color);\"><b>pandas.core.generic.NDFrame.describe</b><br/>def describe(percentiles=None, include=None, exclude=None) -&gt; NDFrameT</pre><pre class=\"function-repr-contents function-repr-contents-collapsed\" style=\"\"><a class=\"filepath\" style=\"display:none\" href=\"#\">/usr/local/lib/python3.10/dist-packages/pandas/core/generic.py</a>Generate descriptive statistics.\n",
              "\n",
              "Descriptive statistics include those that summarize the central\n",
              "tendency, dispersion and shape of a\n",
              "dataset&#x27;s distribution, excluding ``NaN`` values.\n",
              "\n",
              "Analyzes both numeric and object series, as well\n",
              "as ``DataFrame`` column sets of mixed data types. The output\n",
              "will vary depending on what is provided. Refer to the notes\n",
              "below for more detail.\n",
              "\n",
              "Parameters\n",
              "----------\n",
              "percentiles : list-like of numbers, optional\n",
              "    The percentiles to include in the output. All should\n",
              "    fall between 0 and 1. The default is\n",
              "    ``[.25, .5, .75]``, which returns the 25th, 50th, and\n",
              "    75th percentiles.\n",
              "include : &#x27;all&#x27;, list-like of dtypes or None (default), optional\n",
              "    A white list of data types to include in the result. Ignored\n",
              "    for ``Series``. Here are the options:\n",
              "\n",
              "    - &#x27;all&#x27; : All columns of the input will be included in the output.\n",
              "    - A list-like of dtypes : Limits the results to the\n",
              "      provided data types.\n",
              "      To limit the result to numeric types submit\n",
              "      ``numpy.number``. To limit it instead to object columns submit\n",
              "      the ``numpy.object`` data type. Strings\n",
              "      can also be used in the style of\n",
              "      ``select_dtypes`` (e.g. ``df.describe(include=[&#x27;O&#x27;])``). To\n",
              "      select pandas categorical columns, use ``&#x27;category&#x27;``\n",
              "    - None (default) : The result will include all numeric columns.\n",
              "exclude : list-like of dtypes or None (default), optional,\n",
              "    A black list of data types to omit from the result. Ignored\n",
              "    for ``Series``. Here are the options:\n",
              "\n",
              "    - A list-like of dtypes : Excludes the provided data types\n",
              "      from the result. To exclude numeric types submit\n",
              "      ``numpy.number``. To exclude object columns submit the data\n",
              "      type ``numpy.object``. Strings can also be used in the style of\n",
              "      ``select_dtypes`` (e.g. ``df.describe(exclude=[&#x27;O&#x27;])``). To\n",
              "      exclude pandas categorical columns, use ``&#x27;category&#x27;``\n",
              "    - None (default) : The result will exclude nothing.\n",
              "\n",
              "Returns\n",
              "-------\n",
              "Series or DataFrame\n",
              "    Summary statistics of the Series or Dataframe provided.\n",
              "\n",
              "See Also\n",
              "--------\n",
              "DataFrame.count: Count number of non-NA/null observations.\n",
              "DataFrame.max: Maximum of the values in the object.\n",
              "DataFrame.min: Minimum of the values in the object.\n",
              "DataFrame.mean: Mean of the values.\n",
              "DataFrame.std: Standard deviation of the observations.\n",
              "DataFrame.select_dtypes: Subset of a DataFrame including/excluding\n",
              "    columns based on their dtype.\n",
              "\n",
              "Notes\n",
              "-----\n",
              "For numeric data, the result&#x27;s index will include ``count``,\n",
              "``mean``, ``std``, ``min``, ``max`` as well as lower, ``50`` and\n",
              "upper percentiles. By default the lower percentile is ``25`` and the\n",
              "upper percentile is ``75``. The ``50`` percentile is the\n",
              "same as the median.\n",
              "\n",
              "For object data (e.g. strings or timestamps), the result&#x27;s index\n",
              "will include ``count``, ``unique``, ``top``, and ``freq``. The ``top``\n",
              "is the most common value. The ``freq`` is the most common value&#x27;s\n",
              "frequency. Timestamps also include the ``first`` and ``last`` items.\n",
              "\n",
              "If multiple object values have the highest count, then the\n",
              "``count`` and ``top`` results will be arbitrarily chosen from\n",
              "among those with the highest count.\n",
              "\n",
              "For mixed data types provided via a ``DataFrame``, the default is to\n",
              "return only an analysis of numeric columns. If the dataframe consists\n",
              "only of object and categorical data without any numeric columns, the\n",
              "default is to return an analysis of both the object and categorical\n",
              "columns. If ``include=&#x27;all&#x27;`` is provided as an option, the result\n",
              "will include a union of attributes of each type.\n",
              "\n",
              "The `include` and `exclude` parameters can be used to limit\n",
              "which columns in a ``DataFrame`` are analyzed for the output.\n",
              "The parameters are ignored when analyzing a ``Series``.\n",
              "\n",
              "Examples\n",
              "--------\n",
              "Describing a numeric ``Series``.\n",
              "\n",
              "&gt;&gt;&gt; s = pd.Series([1, 2, 3])\n",
              "&gt;&gt;&gt; s.describe()\n",
              "count    3.0\n",
              "mean     2.0\n",
              "std      1.0\n",
              "min      1.0\n",
              "25%      1.5\n",
              "50%      2.0\n",
              "75%      2.5\n",
              "max      3.0\n",
              "dtype: float64\n",
              "\n",
              "Describing a categorical ``Series``.\n",
              "\n",
              "&gt;&gt;&gt; s = pd.Series([&#x27;a&#x27;, &#x27;a&#x27;, &#x27;b&#x27;, &#x27;c&#x27;])\n",
              "&gt;&gt;&gt; s.describe()\n",
              "count     4\n",
              "unique    3\n",
              "top       a\n",
              "freq      2\n",
              "dtype: object\n",
              "\n",
              "Describing a timestamp ``Series``.\n",
              "\n",
              "&gt;&gt;&gt; s = pd.Series([\n",
              "...     np.datetime64(&quot;2000-01-01&quot;),\n",
              "...     np.datetime64(&quot;2010-01-01&quot;),\n",
              "...     np.datetime64(&quot;2010-01-01&quot;)\n",
              "... ])\n",
              "&gt;&gt;&gt; s.describe()\n",
              "count                      3\n",
              "mean     2006-09-01 08:00:00\n",
              "min      2000-01-01 00:00:00\n",
              "25%      2004-12-31 12:00:00\n",
              "50%      2010-01-01 00:00:00\n",
              "75%      2010-01-01 00:00:00\n",
              "max      2010-01-01 00:00:00\n",
              "dtype: object\n",
              "\n",
              "Describing a ``DataFrame``. By default only numeric fields\n",
              "are returned.\n",
              "\n",
              "&gt;&gt;&gt; df = pd.DataFrame({&#x27;categorical&#x27;: pd.Categorical([&#x27;d&#x27;,&#x27;e&#x27;,&#x27;f&#x27;]),\n",
              "...                    &#x27;numeric&#x27;: [1, 2, 3],\n",
              "...                    &#x27;object&#x27;: [&#x27;a&#x27;, &#x27;b&#x27;, &#x27;c&#x27;]\n",
              "...                   })\n",
              "&gt;&gt;&gt; df.describe()\n",
              "       numeric\n",
              "count      3.0\n",
              "mean       2.0\n",
              "std        1.0\n",
              "min        1.0\n",
              "25%        1.5\n",
              "50%        2.0\n",
              "75%        2.5\n",
              "max        3.0\n",
              "\n",
              "Describing all columns of a ``DataFrame`` regardless of data type.\n",
              "\n",
              "&gt;&gt;&gt; df.describe(include=&#x27;all&#x27;)  # doctest: +SKIP\n",
              "       categorical  numeric object\n",
              "count            3      3.0      3\n",
              "unique           3      NaN      3\n",
              "top              f      NaN      a\n",
              "freq             1      NaN      1\n",
              "mean           NaN      2.0    NaN\n",
              "std            NaN      1.0    NaN\n",
              "min            NaN      1.0    NaN\n",
              "25%            NaN      1.5    NaN\n",
              "50%            NaN      2.0    NaN\n",
              "75%            NaN      2.5    NaN\n",
              "max            NaN      3.0    NaN\n",
              "\n",
              "Describing a column from a ``DataFrame`` by accessing it as\n",
              "an attribute.\n",
              "\n",
              "&gt;&gt;&gt; df.numeric.describe()\n",
              "count    3.0\n",
              "mean     2.0\n",
              "std      1.0\n",
              "min      1.0\n",
              "25%      1.5\n",
              "50%      2.0\n",
              "75%      2.5\n",
              "max      3.0\n",
              "Name: numeric, dtype: float64\n",
              "\n",
              "Including only numeric columns in a ``DataFrame`` description.\n",
              "\n",
              "&gt;&gt;&gt; df.describe(include=[np.number])\n",
              "       numeric\n",
              "count      3.0\n",
              "mean       2.0\n",
              "std        1.0\n",
              "min        1.0\n",
              "25%        1.5\n",
              "50%        2.0\n",
              "75%        2.5\n",
              "max        3.0\n",
              "\n",
              "Including only string columns in a ``DataFrame`` description.\n",
              "\n",
              "&gt;&gt;&gt; df.describe(include=[object])  # doctest: +SKIP\n",
              "       object\n",
              "count       3\n",
              "unique      3\n",
              "top         a\n",
              "freq        1\n",
              "\n",
              "Including only categorical columns from a ``DataFrame`` description.\n",
              "\n",
              "&gt;&gt;&gt; df.describe(include=[&#x27;category&#x27;])\n",
              "       categorical\n",
              "count            3\n",
              "unique           3\n",
              "top              d\n",
              "freq             1\n",
              "\n",
              "Excluding numeric columns from a ``DataFrame`` description.\n",
              "\n",
              "&gt;&gt;&gt; df.describe(exclude=[np.number])  # doctest: +SKIP\n",
              "       categorical object\n",
              "count            3      3\n",
              "unique           3      3\n",
              "top              f      a\n",
              "freq             1      1\n",
              "\n",
              "Excluding object columns from a ``DataFrame`` description.\n",
              "\n",
              "&gt;&gt;&gt; df.describe(exclude=[object])  # doctest: +SKIP\n",
              "       categorical  numeric\n",
              "count            3      3.0\n",
              "unique           3      NaN\n",
              "top              f      NaN\n",
              "freq             1      NaN\n",
              "mean           NaN      2.0\n",
              "std            NaN      1.0\n",
              "min            NaN      1.0\n",
              "25%            NaN      1.5\n",
              "50%            NaN      2.0\n",
              "75%            NaN      2.5\n",
              "max            NaN      3.0</pre>\n",
              "      <script>\n",
              "      if (google.colab.kernel.accessAllowed && google.colab.files && google.colab.files.view) {\n",
              "        for (const element of document.querySelectorAll('.filepath')) {\n",
              "          element.style.display = 'block'\n",
              "          element.onclick = (event) => {\n",
              "            event.preventDefault();\n",
              "            event.stopPropagation();\n",
              "            google.colab.files.view(element.textContent, 10577);\n",
              "          };\n",
              "        }\n",
              "      }\n",
              "      for (const element of document.querySelectorAll('.function-repr-contents')) {\n",
              "        element.onclick = (event) => {\n",
              "          event.preventDefault();\n",
              "          event.stopPropagation();\n",
              "          element.classList.toggle('function-repr-contents-collapsed');\n",
              "        };\n",
              "      }\n",
              "      </script>\n",
              "      </div>"
            ]
          },
          "metadata": {},
          "execution_count": 2
        }
      ],
      "source": [
        "df = pd.read_csv(\"sample_data/cardio.csv\")\n",
        "df.info()\n",
        "df.describe\n"
      ]
    },
    {
      "cell_type": "code",
      "execution_count": 3,
      "metadata": {
        "id": "2_k9N2p4XmSA",
        "outputId": "3826fbf3-9dd7-499e-e4e1-5e9517ddd2de",
        "colab": {
          "base_uri": "https://localhost:8080/",
          "height": 441
        }
      },
      "outputs": [
        {
          "output_type": "stream",
          "name": "stdout",
          "text": [
            "Data saved successfully to: cardio_without_id.csv\n"
          ]
        },
        {
          "output_type": "execute_result",
          "data": {
            "text/plain": [
              "         age  gender  height  weight  ap_hi  ap_lo  cholesterol  gluc  smoke  \\\n",
              "0      18393       2     168    62.0    110     80            1     1      0   \n",
              "1      20228       1     156    85.0    140     90            3     1      0   \n",
              "2      18857       1     165    64.0    130     70            3     1      0   \n",
              "3      17623       2     169    82.0    150    100            1     1      0   \n",
              "4      17474       1     156    56.0    100     60            1     1      0   \n",
              "...      ...     ...     ...     ...    ...    ...          ...   ...    ...   \n",
              "69995  19240       2     168    76.0    120     80            1     1      1   \n",
              "69996  22601       1     158   126.0    140     90            2     2      0   \n",
              "69997  19066       2     183   105.0    180     90            3     1      0   \n",
              "69998  22431       1     163    72.0    135     80            1     2      0   \n",
              "69999  20540       1     170    72.0    120     80            2     1      0   \n",
              "\n",
              "       alco  active  cardio  \n",
              "0         0       1       0  \n",
              "1         0       1       1  \n",
              "2         0       0       1  \n",
              "3         0       1       1  \n",
              "4         0       0       0  \n",
              "...     ...     ...     ...  \n",
              "69995     0       1       0  \n",
              "69996     0       1       1  \n",
              "69997     1       0       1  \n",
              "69998     0       0       1  \n",
              "69999     0       1       0  \n",
              "\n",
              "[70000 rows x 12 columns]"
            ],
            "text/html": [
              "\n",
              "  <div id=\"df-c8387bcd-da4a-4c56-b8b6-680e6493d203\" class=\"colab-df-container\">\n",
              "    <div>\n",
              "<style scoped>\n",
              "    .dataframe tbody tr th:only-of-type {\n",
              "        vertical-align: middle;\n",
              "    }\n",
              "\n",
              "    .dataframe tbody tr th {\n",
              "        vertical-align: top;\n",
              "    }\n",
              "\n",
              "    .dataframe thead th {\n",
              "        text-align: right;\n",
              "    }\n",
              "</style>\n",
              "<table border=\"1\" class=\"dataframe\">\n",
              "  <thead>\n",
              "    <tr style=\"text-align: right;\">\n",
              "      <th></th>\n",
              "      <th>age</th>\n",
              "      <th>gender</th>\n",
              "      <th>height</th>\n",
              "      <th>weight</th>\n",
              "      <th>ap_hi</th>\n",
              "      <th>ap_lo</th>\n",
              "      <th>cholesterol</th>\n",
              "      <th>gluc</th>\n",
              "      <th>smoke</th>\n",
              "      <th>alco</th>\n",
              "      <th>active</th>\n",
              "      <th>cardio</th>\n",
              "    </tr>\n",
              "  </thead>\n",
              "  <tbody>\n",
              "    <tr>\n",
              "      <th>0</th>\n",
              "      <td>18393</td>\n",
              "      <td>2</td>\n",
              "      <td>168</td>\n",
              "      <td>62.0</td>\n",
              "      <td>110</td>\n",
              "      <td>80</td>\n",
              "      <td>1</td>\n",
              "      <td>1</td>\n",
              "      <td>0</td>\n",
              "      <td>0</td>\n",
              "      <td>1</td>\n",
              "      <td>0</td>\n",
              "    </tr>\n",
              "    <tr>\n",
              "      <th>1</th>\n",
              "      <td>20228</td>\n",
              "      <td>1</td>\n",
              "      <td>156</td>\n",
              "      <td>85.0</td>\n",
              "      <td>140</td>\n",
              "      <td>90</td>\n",
              "      <td>3</td>\n",
              "      <td>1</td>\n",
              "      <td>0</td>\n",
              "      <td>0</td>\n",
              "      <td>1</td>\n",
              "      <td>1</td>\n",
              "    </tr>\n",
              "    <tr>\n",
              "      <th>2</th>\n",
              "      <td>18857</td>\n",
              "      <td>1</td>\n",
              "      <td>165</td>\n",
              "      <td>64.0</td>\n",
              "      <td>130</td>\n",
              "      <td>70</td>\n",
              "      <td>3</td>\n",
              "      <td>1</td>\n",
              "      <td>0</td>\n",
              "      <td>0</td>\n",
              "      <td>0</td>\n",
              "      <td>1</td>\n",
              "    </tr>\n",
              "    <tr>\n",
              "      <th>3</th>\n",
              "      <td>17623</td>\n",
              "      <td>2</td>\n",
              "      <td>169</td>\n",
              "      <td>82.0</td>\n",
              "      <td>150</td>\n",
              "      <td>100</td>\n",
              "      <td>1</td>\n",
              "      <td>1</td>\n",
              "      <td>0</td>\n",
              "      <td>0</td>\n",
              "      <td>1</td>\n",
              "      <td>1</td>\n",
              "    </tr>\n",
              "    <tr>\n",
              "      <th>4</th>\n",
              "      <td>17474</td>\n",
              "      <td>1</td>\n",
              "      <td>156</td>\n",
              "      <td>56.0</td>\n",
              "      <td>100</td>\n",
              "      <td>60</td>\n",
              "      <td>1</td>\n",
              "      <td>1</td>\n",
              "      <td>0</td>\n",
              "      <td>0</td>\n",
              "      <td>0</td>\n",
              "      <td>0</td>\n",
              "    </tr>\n",
              "    <tr>\n",
              "      <th>...</th>\n",
              "      <td>...</td>\n",
              "      <td>...</td>\n",
              "      <td>...</td>\n",
              "      <td>...</td>\n",
              "      <td>...</td>\n",
              "      <td>...</td>\n",
              "      <td>...</td>\n",
              "      <td>...</td>\n",
              "      <td>...</td>\n",
              "      <td>...</td>\n",
              "      <td>...</td>\n",
              "      <td>...</td>\n",
              "    </tr>\n",
              "    <tr>\n",
              "      <th>69995</th>\n",
              "      <td>19240</td>\n",
              "      <td>2</td>\n",
              "      <td>168</td>\n",
              "      <td>76.0</td>\n",
              "      <td>120</td>\n",
              "      <td>80</td>\n",
              "      <td>1</td>\n",
              "      <td>1</td>\n",
              "      <td>1</td>\n",
              "      <td>0</td>\n",
              "      <td>1</td>\n",
              "      <td>0</td>\n",
              "    </tr>\n",
              "    <tr>\n",
              "      <th>69996</th>\n",
              "      <td>22601</td>\n",
              "      <td>1</td>\n",
              "      <td>158</td>\n",
              "      <td>126.0</td>\n",
              "      <td>140</td>\n",
              "      <td>90</td>\n",
              "      <td>2</td>\n",
              "      <td>2</td>\n",
              "      <td>0</td>\n",
              "      <td>0</td>\n",
              "      <td>1</td>\n",
              "      <td>1</td>\n",
              "    </tr>\n",
              "    <tr>\n",
              "      <th>69997</th>\n",
              "      <td>19066</td>\n",
              "      <td>2</td>\n",
              "      <td>183</td>\n",
              "      <td>105.0</td>\n",
              "      <td>180</td>\n",
              "      <td>90</td>\n",
              "      <td>3</td>\n",
              "      <td>1</td>\n",
              "      <td>0</td>\n",
              "      <td>1</td>\n",
              "      <td>0</td>\n",
              "      <td>1</td>\n",
              "    </tr>\n",
              "    <tr>\n",
              "      <th>69998</th>\n",
              "      <td>22431</td>\n",
              "      <td>1</td>\n",
              "      <td>163</td>\n",
              "      <td>72.0</td>\n",
              "      <td>135</td>\n",
              "      <td>80</td>\n",
              "      <td>1</td>\n",
              "      <td>2</td>\n",
              "      <td>0</td>\n",
              "      <td>0</td>\n",
              "      <td>0</td>\n",
              "      <td>1</td>\n",
              "    </tr>\n",
              "    <tr>\n",
              "      <th>69999</th>\n",
              "      <td>20540</td>\n",
              "      <td>1</td>\n",
              "      <td>170</td>\n",
              "      <td>72.0</td>\n",
              "      <td>120</td>\n",
              "      <td>80</td>\n",
              "      <td>2</td>\n",
              "      <td>1</td>\n",
              "      <td>0</td>\n",
              "      <td>0</td>\n",
              "      <td>1</td>\n",
              "      <td>0</td>\n",
              "    </tr>\n",
              "  </tbody>\n",
              "</table>\n",
              "<p>70000 rows × 12 columns</p>\n",
              "</div>\n",
              "    <div class=\"colab-df-buttons\">\n",
              "\n",
              "  <div class=\"colab-df-container\">\n",
              "    <button class=\"colab-df-convert\" onclick=\"convertToInteractive('df-c8387bcd-da4a-4c56-b8b6-680e6493d203')\"\n",
              "            title=\"Convert this dataframe to an interactive table.\"\n",
              "            style=\"display:none;\">\n",
              "\n",
              "  <svg xmlns=\"http://www.w3.org/2000/svg\" height=\"24px\" viewBox=\"0 -960 960 960\">\n",
              "    <path d=\"M120-120v-720h720v720H120Zm60-500h600v-160H180v160Zm220 220h160v-160H400v160Zm0 220h160v-160H400v160ZM180-400h160v-160H180v160Zm440 0h160v-160H620v160ZM180-180h160v-160H180v160Zm440 0h160v-160H620v160Z\"/>\n",
              "  </svg>\n",
              "    </button>\n",
              "\n",
              "  <style>\n",
              "    .colab-df-container {\n",
              "      display:flex;\n",
              "      gap: 12px;\n",
              "    }\n",
              "\n",
              "    .colab-df-convert {\n",
              "      background-color: #E8F0FE;\n",
              "      border: none;\n",
              "      border-radius: 50%;\n",
              "      cursor: pointer;\n",
              "      display: none;\n",
              "      fill: #1967D2;\n",
              "      height: 32px;\n",
              "      padding: 0 0 0 0;\n",
              "      width: 32px;\n",
              "    }\n",
              "\n",
              "    .colab-df-convert:hover {\n",
              "      background-color: #E2EBFA;\n",
              "      box-shadow: 0px 1px 2px rgba(60, 64, 67, 0.3), 0px 1px 3px 1px rgba(60, 64, 67, 0.15);\n",
              "      fill: #174EA6;\n",
              "    }\n",
              "\n",
              "    .colab-df-buttons div {\n",
              "      margin-bottom: 4px;\n",
              "    }\n",
              "\n",
              "    [theme=dark] .colab-df-convert {\n",
              "      background-color: #3B4455;\n",
              "      fill: #D2E3FC;\n",
              "    }\n",
              "\n",
              "    [theme=dark] .colab-df-convert:hover {\n",
              "      background-color: #434B5C;\n",
              "      box-shadow: 0px 1px 3px 1px rgba(0, 0, 0, 0.15);\n",
              "      filter: drop-shadow(0px 1px 2px rgba(0, 0, 0, 0.3));\n",
              "      fill: #FFFFFF;\n",
              "    }\n",
              "  </style>\n",
              "\n",
              "    <script>\n",
              "      const buttonEl =\n",
              "        document.querySelector('#df-c8387bcd-da4a-4c56-b8b6-680e6493d203 button.colab-df-convert');\n",
              "      buttonEl.style.display =\n",
              "        google.colab.kernel.accessAllowed ? 'block' : 'none';\n",
              "\n",
              "      async function convertToInteractive(key) {\n",
              "        const element = document.querySelector('#df-c8387bcd-da4a-4c56-b8b6-680e6493d203');\n",
              "        const dataTable =\n",
              "          await google.colab.kernel.invokeFunction('convertToInteractive',\n",
              "                                                    [key], {});\n",
              "        if (!dataTable) return;\n",
              "\n",
              "        const docLinkHtml = 'Like what you see? Visit the ' +\n",
              "          '<a target=\"_blank\" href=https://colab.research.google.com/notebooks/data_table.ipynb>data table notebook</a>'\n",
              "          + ' to learn more about interactive tables.';\n",
              "        element.innerHTML = '';\n",
              "        dataTable['output_type'] = 'display_data';\n",
              "        await google.colab.output.renderOutput(dataTable, element);\n",
              "        const docLink = document.createElement('div');\n",
              "        docLink.innerHTML = docLinkHtml;\n",
              "        element.appendChild(docLink);\n",
              "      }\n",
              "    </script>\n",
              "  </div>\n",
              "\n",
              "\n",
              "<div id=\"df-829722dc-971a-4e46-bdaf-296dccb3fb6e\">\n",
              "  <button class=\"colab-df-quickchart\" onclick=\"quickchart('df-829722dc-971a-4e46-bdaf-296dccb3fb6e')\"\n",
              "            title=\"Suggest charts\"\n",
              "            style=\"display:none;\">\n",
              "\n",
              "<svg xmlns=\"http://www.w3.org/2000/svg\" height=\"24px\"viewBox=\"0 0 24 24\"\n",
              "     width=\"24px\">\n",
              "    <g>\n",
              "        <path d=\"M19 3H5c-1.1 0-2 .9-2 2v14c0 1.1.9 2 2 2h14c1.1 0 2-.9 2-2V5c0-1.1-.9-2-2-2zM9 17H7v-7h2v7zm4 0h-2V7h2v10zm4 0h-2v-4h2v4z\"/>\n",
              "    </g>\n",
              "</svg>\n",
              "  </button>\n",
              "\n",
              "<style>\n",
              "  .colab-df-quickchart {\n",
              "      --bg-color: #E8F0FE;\n",
              "      --fill-color: #1967D2;\n",
              "      --hover-bg-color: #E2EBFA;\n",
              "      --hover-fill-color: #174EA6;\n",
              "      --disabled-fill-color: #AAA;\n",
              "      --disabled-bg-color: #DDD;\n",
              "  }\n",
              "\n",
              "  [theme=dark] .colab-df-quickchart {\n",
              "      --bg-color: #3B4455;\n",
              "      --fill-color: #D2E3FC;\n",
              "      --hover-bg-color: #434B5C;\n",
              "      --hover-fill-color: #FFFFFF;\n",
              "      --disabled-bg-color: #3B4455;\n",
              "      --disabled-fill-color: #666;\n",
              "  }\n",
              "\n",
              "  .colab-df-quickchart {\n",
              "    background-color: var(--bg-color);\n",
              "    border: none;\n",
              "    border-radius: 50%;\n",
              "    cursor: pointer;\n",
              "    display: none;\n",
              "    fill: var(--fill-color);\n",
              "    height: 32px;\n",
              "    padding: 0;\n",
              "    width: 32px;\n",
              "  }\n",
              "\n",
              "  .colab-df-quickchart:hover {\n",
              "    background-color: var(--hover-bg-color);\n",
              "    box-shadow: 0 1px 2px rgba(60, 64, 67, 0.3), 0 1px 3px 1px rgba(60, 64, 67, 0.15);\n",
              "    fill: var(--button-hover-fill-color);\n",
              "  }\n",
              "\n",
              "  .colab-df-quickchart-complete:disabled,\n",
              "  .colab-df-quickchart-complete:disabled:hover {\n",
              "    background-color: var(--disabled-bg-color);\n",
              "    fill: var(--disabled-fill-color);\n",
              "    box-shadow: none;\n",
              "  }\n",
              "\n",
              "  .colab-df-spinner {\n",
              "    border: 2px solid var(--fill-color);\n",
              "    border-color: transparent;\n",
              "    border-bottom-color: var(--fill-color);\n",
              "    animation:\n",
              "      spin 1s steps(1) infinite;\n",
              "  }\n",
              "\n",
              "  @keyframes spin {\n",
              "    0% {\n",
              "      border-color: transparent;\n",
              "      border-bottom-color: var(--fill-color);\n",
              "      border-left-color: var(--fill-color);\n",
              "    }\n",
              "    20% {\n",
              "      border-color: transparent;\n",
              "      border-left-color: var(--fill-color);\n",
              "      border-top-color: var(--fill-color);\n",
              "    }\n",
              "    30% {\n",
              "      border-color: transparent;\n",
              "      border-left-color: var(--fill-color);\n",
              "      border-top-color: var(--fill-color);\n",
              "      border-right-color: var(--fill-color);\n",
              "    }\n",
              "    40% {\n",
              "      border-color: transparent;\n",
              "      border-right-color: var(--fill-color);\n",
              "      border-top-color: var(--fill-color);\n",
              "    }\n",
              "    60% {\n",
              "      border-color: transparent;\n",
              "      border-right-color: var(--fill-color);\n",
              "    }\n",
              "    80% {\n",
              "      border-color: transparent;\n",
              "      border-right-color: var(--fill-color);\n",
              "      border-bottom-color: var(--fill-color);\n",
              "    }\n",
              "    90% {\n",
              "      border-color: transparent;\n",
              "      border-bottom-color: var(--fill-color);\n",
              "    }\n",
              "  }\n",
              "</style>\n",
              "\n",
              "  <script>\n",
              "    async function quickchart(key) {\n",
              "      const quickchartButtonEl =\n",
              "        document.querySelector('#' + key + ' button');\n",
              "      quickchartButtonEl.disabled = true;  // To prevent multiple clicks.\n",
              "      quickchartButtonEl.classList.add('colab-df-spinner');\n",
              "      try {\n",
              "        const charts = await google.colab.kernel.invokeFunction(\n",
              "            'suggestCharts', [key], {});\n",
              "      } catch (error) {\n",
              "        console.error('Error during call to suggestCharts:', error);\n",
              "      }\n",
              "      quickchartButtonEl.classList.remove('colab-df-spinner');\n",
              "      quickchartButtonEl.classList.add('colab-df-quickchart-complete');\n",
              "    }\n",
              "    (() => {\n",
              "      let quickchartButtonEl =\n",
              "        document.querySelector('#df-829722dc-971a-4e46-bdaf-296dccb3fb6e button');\n",
              "      quickchartButtonEl.style.display =\n",
              "        google.colab.kernel.accessAllowed ? 'block' : 'none';\n",
              "    })();\n",
              "  </script>\n",
              "</div>\n",
              "\n",
              "  <div id=\"id_5346f592-6f9c-426b-a3a4-96c3629436e1\">\n",
              "    <style>\n",
              "      .colab-df-generate {\n",
              "        background-color: #E8F0FE;\n",
              "        border: none;\n",
              "        border-radius: 50%;\n",
              "        cursor: pointer;\n",
              "        display: none;\n",
              "        fill: #1967D2;\n",
              "        height: 32px;\n",
              "        padding: 0 0 0 0;\n",
              "        width: 32px;\n",
              "      }\n",
              "\n",
              "      .colab-df-generate:hover {\n",
              "        background-color: #E2EBFA;\n",
              "        box-shadow: 0px 1px 2px rgba(60, 64, 67, 0.3), 0px 1px 3px 1px rgba(60, 64, 67, 0.15);\n",
              "        fill: #174EA6;\n",
              "      }\n",
              "\n",
              "      [theme=dark] .colab-df-generate {\n",
              "        background-color: #3B4455;\n",
              "        fill: #D2E3FC;\n",
              "      }\n",
              "\n",
              "      [theme=dark] .colab-df-generate:hover {\n",
              "        background-color: #434B5C;\n",
              "        box-shadow: 0px 1px 3px 1px rgba(0, 0, 0, 0.15);\n",
              "        filter: drop-shadow(0px 1px 2px rgba(0, 0, 0, 0.3));\n",
              "        fill: #FFFFFF;\n",
              "      }\n",
              "    </style>\n",
              "    <button class=\"colab-df-generate\" onclick=\"generateWithVariable('df')\"\n",
              "            title=\"Generate code using this dataframe.\"\n",
              "            style=\"display:none;\">\n",
              "\n",
              "  <svg xmlns=\"http://www.w3.org/2000/svg\" height=\"24px\"viewBox=\"0 0 24 24\"\n",
              "       width=\"24px\">\n",
              "    <path d=\"M7,19H8.4L18.45,9,17,7.55,7,17.6ZM5,21V16.75L18.45,3.32a2,2,0,0,1,2.83,0l1.4,1.43a1.91,1.91,0,0,1,.58,1.4,1.91,1.91,0,0,1-.58,1.4L9.25,21ZM18.45,9,17,7.55Zm-12,3A5.31,5.31,0,0,0,4.9,8.1,5.31,5.31,0,0,0,1,6.5,5.31,5.31,0,0,0,4.9,4.9,5.31,5.31,0,0,0,6.5,1,5.31,5.31,0,0,0,8.1,4.9,5.31,5.31,0,0,0,12,6.5,5.46,5.46,0,0,0,6.5,12Z\"/>\n",
              "  </svg>\n",
              "    </button>\n",
              "    <script>\n",
              "      (() => {\n",
              "      const buttonEl =\n",
              "        document.querySelector('#id_5346f592-6f9c-426b-a3a4-96c3629436e1 button.colab-df-generate');\n",
              "      buttonEl.style.display =\n",
              "        google.colab.kernel.accessAllowed ? 'block' : 'none';\n",
              "\n",
              "      buttonEl.onclick = () => {\n",
              "        google.colab.notebook.generateWithVariable('df');\n",
              "      }\n",
              "      })();\n",
              "    </script>\n",
              "  </div>\n",
              "\n",
              "    </div>\n",
              "  </div>\n"
            ],
            "application/vnd.google.colaboratory.intrinsic+json": {
              "type": "dataframe",
              "variable_name": "df",
              "summary": "{\n  \"name\": \"df\",\n  \"rows\": 70000,\n  \"fields\": [\n    {\n      \"column\": \"age\",\n      \"properties\": {\n        \"dtype\": \"number\",\n        \"std\": 2467,\n        \"min\": 10798,\n        \"max\": 23713,\n        \"num_unique_values\": 8076,\n        \"samples\": [\n          17317,\n          21437,\n          17627\n        ],\n        \"semantic_type\": \"\",\n        \"description\": \"\"\n      }\n    },\n    {\n      \"column\": \"gender\",\n      \"properties\": {\n        \"dtype\": \"number\",\n        \"std\": 0,\n        \"min\": 1,\n        \"max\": 2,\n        \"num_unique_values\": 2,\n        \"samples\": [\n          1,\n          2\n        ],\n        \"semantic_type\": \"\",\n        \"description\": \"\"\n      }\n    },\n    {\n      \"column\": \"height\",\n      \"properties\": {\n        \"dtype\": \"number\",\n        \"std\": 8,\n        \"min\": 55,\n        \"max\": 250,\n        \"num_unique_values\": 109,\n        \"samples\": [\n          125,\n          181\n        ],\n        \"semantic_type\": \"\",\n        \"description\": \"\"\n      }\n    },\n    {\n      \"column\": \"weight\",\n      \"properties\": {\n        \"dtype\": \"number\",\n        \"std\": 14.39575667851138,\n        \"min\": 10.0,\n        \"max\": 200.0,\n        \"num_unique_values\": 287,\n        \"samples\": [\n          68.0,\n          88.5\n        ],\n        \"semantic_type\": \"\",\n        \"description\": \"\"\n      }\n    },\n    {\n      \"column\": \"ap_hi\",\n      \"properties\": {\n        \"dtype\": \"number\",\n        \"std\": 154,\n        \"min\": -150,\n        \"max\": 16020,\n        \"num_unique_values\": 153,\n        \"samples\": [\n          11500,\n          17\n        ],\n        \"semantic_type\": \"\",\n        \"description\": \"\"\n      }\n    },\n    {\n      \"column\": \"ap_lo\",\n      \"properties\": {\n        \"dtype\": \"number\",\n        \"std\": 188,\n        \"min\": -70,\n        \"max\": 11000,\n        \"num_unique_values\": 157,\n        \"samples\": [\n          810,\n          8044\n        ],\n        \"semantic_type\": \"\",\n        \"description\": \"\"\n      }\n    },\n    {\n      \"column\": \"cholesterol\",\n      \"properties\": {\n        \"dtype\": \"number\",\n        \"std\": 0,\n        \"min\": 1,\n        \"max\": 3,\n        \"num_unique_values\": 3,\n        \"samples\": [\n          1,\n          3\n        ],\n        \"semantic_type\": \"\",\n        \"description\": \"\"\n      }\n    },\n    {\n      \"column\": \"gluc\",\n      \"properties\": {\n        \"dtype\": \"number\",\n        \"std\": 0,\n        \"min\": 1,\n        \"max\": 3,\n        \"num_unique_values\": 3,\n        \"samples\": [\n          1,\n          2\n        ],\n        \"semantic_type\": \"\",\n        \"description\": \"\"\n      }\n    },\n    {\n      \"column\": \"smoke\",\n      \"properties\": {\n        \"dtype\": \"number\",\n        \"std\": 0,\n        \"min\": 0,\n        \"max\": 1,\n        \"num_unique_values\": 2,\n        \"samples\": [\n          1,\n          0\n        ],\n        \"semantic_type\": \"\",\n        \"description\": \"\"\n      }\n    },\n    {\n      \"column\": \"alco\",\n      \"properties\": {\n        \"dtype\": \"number\",\n        \"std\": 0,\n        \"min\": 0,\n        \"max\": 1,\n        \"num_unique_values\": 2,\n        \"samples\": [\n          1,\n          0\n        ],\n        \"semantic_type\": \"\",\n        \"description\": \"\"\n      }\n    },\n    {\n      \"column\": \"active\",\n      \"properties\": {\n        \"dtype\": \"number\",\n        \"std\": 0,\n        \"min\": 0,\n        \"max\": 1,\n        \"num_unique_values\": 2,\n        \"samples\": [\n          0,\n          1\n        ],\n        \"semantic_type\": \"\",\n        \"description\": \"\"\n      }\n    },\n    {\n      \"column\": \"cardio\",\n      \"properties\": {\n        \"dtype\": \"number\",\n        \"std\": 0,\n        \"min\": 0,\n        \"max\": 1,\n        \"num_unique_values\": 2,\n        \"samples\": [\n          1,\n          0\n        ],\n        \"semantic_type\": \"\",\n        \"description\": \"\"\n      }\n    }\n  ]\n}"
            }
          },
          "metadata": {},
          "execution_count": 3
        }
      ],
      "source": [
        "df =df.drop(\"id\", axis=1)\n",
        "new_file_name = \"cardio_without_id.csv\"\n",
        "\n",
        "df.to_csv(new_file_name, index=False)\n",
        "\n",
        "print(f\"Data saved successfully to: {new_file_name}\")\n",
        "df"
      ]
    },
    {
      "cell_type": "markdown",
      "source": [
        "this function down is to remove the age by days column and replace it by age by year"
      ],
      "metadata": {
        "id": "QJzwCgiZ2T2u"
      }
    },
    {
      "cell_type": "code",
      "source": [
        "\n",
        "def convert_age_to_years(data):\n",
        "\n",
        "\n",
        "  if 'age' not in data.columns:\n",
        "      print(\"Warning: 'age' column not found in the DataFrame.\")\n",
        "      return data\n",
        "\n",
        "  data['age_in_years'] = data['age'] / 365\n",
        "\n",
        "  data.drop('age', axis=1, inplace=True)\n",
        "\n",
        "  return data\n",
        "\n",
        "df = convert_age_to_years(df.copy())\n",
        "# print(data_with_years)\n"
      ],
      "metadata": {
        "id": "xdn2szK82SNs"
      },
      "execution_count": 4,
      "outputs": []
    },
    {
      "cell_type": "code",
      "execution_count": 5,
      "metadata": {
        "id": "5yUxvASoXmSA",
        "outputId": "1583a20b-4c9f-4737-f0ce-28b0922ae972",
        "colab": {
          "base_uri": "https://localhost:8080/",
          "height": 472
        }
      },
      "outputs": [
        {
          "output_type": "display_data",
          "data": {
            "text/plain": [
              "<Figure size 640x480 with 1 Axes>"
            ],
            "image/png": "[encoded data removed]"
          },
          "metadata": {}
        }
      ],
      "source": [
        "plt.hist(df[\"age_in_years\"], bins=20, edgecolor=\"black\")\n",
        "plt.xlabel(\"Age (Years)\")\n",
        "plt.ylabel(\"Frequency\")\n",
        "plt.title(\"Distribution of Age in Cardiovascular Disease Data\")\n",
        "plt.show()\n",
        "\n",
        "#in this line we created a new row which is age in years"
      ]
    },
    {
      "cell_type": "markdown",
      "metadata": {
        "id": "l6_KURUJXmSB"
      },
      "source": [
        "\n",
        "this function was used to see the features for those who're less than 50 kg\n",
        "\n",
        "# def plot_underweight_data(data_path, weight_column=\"weight\"):\n",
        "\n",
        "\n",
        "#   # Load data from CSV file\n",
        "#   data = pd.read_csv(data_path)\n",
        "\n",
        "#   # Filter data for individuals with weight less than 50\n",
        "#   underweight_data = data[data[weight_column] < 50]\n",
        "\n",
        "#   # Check if any data points meet the criteria\n",
        "#   if underweight_data.empty:\n",
        "#     print(\"No data points found for individuals weighing less than 50.\")\n",
        "#     return\n",
        "\n",
        "#   # Explore the data (optional)\n",
        "#   # You can add code here to explore other features of the underweight data (e.g., using describe())\n",
        "\n",
        "#   # Plot the data (replace with your desired plot type)\n",
        "#   # Here, we're plotting all numerical features vs index\n",
        "#   for feature in underweight_data.select_dtypes(include=[np.number]):\n",
        "#     plt.plot(underweight_data.index, underweight_data[feature])\n",
        "#     plt.xlabel(\"Index\")\n",
        "#     plt.ylabel(feature)\n",
        "#     plt.title(f\"Features of Individuals Weighing Less Than 50 ({feature})\")\n",
        "#     plt.show()\n",
        "\n",
        "# # Example usage (replace \"cardio.csv\" with your actual file path)\n",
        "# plot_underweight_data(\"Patient's Sickness Prediction/cardio.csv\",\"weight\")"
      ]
    },
    {
      "cell_type": "code",
      "execution_count": 6,
      "metadata": {
        "id": "OuxEH0l_XmSC",
        "outputId": "c1cfd507-3aad-4db6-ba47-c88b623d9981",
        "colab": {
          "base_uri": "https://localhost:8080/",
          "height": 564
        }
      },
      "outputs": [
        {
          "output_type": "display_data",
          "data": {
            "text/plain": [
              "<Figure size 1000x600 with 1 Axes>"
            ],
            "image/png": "[encoded data removed]"
          },
          "metadata": {}
        }
      ],
      "source": [
        "df.isnull().sum();\n",
        "\n",
        "numerical_features = ['age_in_years', 'height', 'weight', 'cholesterol']\n",
        "\n",
        "df[numerical_features].boxplot(figsize=(10, 6))\n",
        "\n",
        "plt.title('Boxplot of Numerical Features')\n",
        "plt.xlabel('Features')\n",
        "plt.ylabel('Values')\n",
        "plt.show()\n"
      ]
    },
    {
      "cell_type": "markdown",
      "metadata": {
        "id": "RQt6vW_zXmSC"
      },
      "source": []
    },
    {
      "cell_type": "code",
      "execution_count": 7,
      "metadata": {
        "id": "DLvI-V4yXmSC",
        "outputId": "fee11174-d35d-4636-b7a3-ee63868ab7a8",
        "colab": {
          "base_uri": "https://localhost:8080/",
          "height": 467
        }
      },
      "outputs": [
        {
          "output_type": "display_data",
          "data": {
            "text/plain": [
              "<Figure size 640x480 with 1 Axes>"
            ],
            "image/png": "[encoded data removed]"
          },
          "metadata": {}
        }
      ],
      "source": [
        "#here we checked if the data is balanced or not by seeing the distribution of the target variable\n",
        "df[\"cardio\"].value_counts().plot(kind=\"bar\")\n",
        "plt.xlabel(\"Cardiovascular Disease\")\n",
        "plt.ylabel(\"Count\")\n",
        "plt.title(\"Distribution of Cardiovascular Disease\")\n",
        "plt.show()"
      ]
    },
    {
      "cell_type": "code",
      "execution_count": 8,
      "metadata": {
        "id": "_sh1mR8xXmSC",
        "outputId": "760e04f1-7c3b-4026-8023-5adc45c0673a",
        "colab": {
          "base_uri": "https://localhost:8080/"
        }
      },
      "outputs": [
        {
          "output_type": "stream",
          "name": "stdout",
          "text": [
            "Minimum Age: 64.96712328767123\n",
            "minimum Height: 250\n",
            "Minimum Weight: 10.0\n"
          ]
        }
      ],
      "source": [
        "# Check for negative age or extreme values in height/weight\n",
        "print(f\"Minimum Age: {(df['age_in_years'].max())}\") # we divide by 365 to get age in years\n",
        "print(f\"minimum Height: {df['height'].max()}\")\n",
        "print(f\"Minimum Weight: {df['weight'].min()}\")\n",
        "\n",
        "# # Explore Blood Pressure ranges (you can adjust these based on your research)\n",
        "# print(f\"Blood Pressure (systolic) - Possible outliers below: {df[df['ap_hi'] < 80]}\")\n",
        "# print(f\"Blood Pressure (systolic) - Possible outliers above: {df[df['ap_hi'] > 220]}\")\n"
      ]
    },
    {
      "cell_type": "markdown",
      "metadata": {
        "id": "XkZ6x6oCXmSD"
      },
      "source": [
        "we caught an important imbalance according to the relation between the weight, height, age...\n",
        "\n",
        "so what are we going to do is that we're going to measure the bmi of every person and see if it is less than 10 it is probably in most cases impossible and he/she should be dead\n",
        "from that point according to the amount of those who have a bmi less than 10 we're going to decide what todo in the data"
      ]
    },
    {
      "cell_type": "code",
      "execution_count": 10,
      "metadata": {
        "id": "Irq6CpyAXmSD",
        "outputId": "8704632d-3cf7-4bdf-d1da-410e29620c1a",
        "colab": {
          "base_uri": "https://localhost:8080/"
        }
      },
      "outputs": [
        {
          "output_type": "stream",
          "name": "stdout",
          "text": [
            "Number of people with BMI less than 10:        gender  height  weight  ap_hi  ap_lo  cholesterol  gluc  smoke  alco  \\\n",
            "26806       1     157    23.0    110     80            1     1      0     0   \n",
            "29488       2     177    22.0    120     80            1     1      1     1   \n",
            "33817       2     178    11.0    130     90            1     1      0     0   \n",
            "57858       2     165    10.0    180   1100            2     2      0     0   \n",
            "60188       1     162    21.0    120     80            2     1      0     0   \n",
            "60699       1     171    29.0    110     70            2     1      0     0   \n",
            "\n",
            "       active  cardio  age_in_years       BMI  \n",
            "26806       1       0     63.791781  9.331007  \n",
            "29488       1       0     55.912329  7.022248  \n",
            "33817       1       1     59.128767  3.471784  \n",
            "57858       1       1     51.517808  3.673095  \n",
            "60188       1       1     59.876712  8.001829  \n",
            "60699       1       1     51.712329  9.917581  \n"
          ]
        }
      ],
      "source": [
        "\n",
        "def calculate_bmi_and_count_underweight(data, weight_column=\"weight\", height_column=\"height\"):\n",
        "\n",
        "\n",
        "  # Check if weight and height columns exist\n",
        "  if weight_column not in data.columns or height_column not in data.columns:\n",
        "    raise ValueError(f\"Columns '{weight_column}' and '{height_column}' not found in data.\")\n",
        "\n",
        "  # Calculate BMI (assuming height is in meters)\n",
        "  df[\"BMI\"] = df[weight_column] / ((df[height_column] /100) **2)\n",
        "\n",
        "#this edit in the method was to change between counting them and displaying their data\n",
        "  # # Count the number of underweight individuals (BMI < 10)\n",
        "  # count_underweight = df[df[\"BMI\"] < 13].shape[0]\n",
        "\n",
        "  # return count_underweight, df\n",
        "\n",
        "\n",
        "  # Count the number of underweight individuals (BMI < 10)\n",
        "  underweight_data = df[df[\"BMI\"] < 10]\n",
        "\n",
        "  # Return data of underweight individuals\n",
        "  return underweight_data\n",
        "# Example usage (assuming your data is in a DataFrame named 'cardio_data')\n",
        "count_underweight = calculate_bmi_and_count_underweight(df, weight_column=\"weight\", height_column=\"height\")\n",
        "\n",
        "print(f\"Number of people with BMI less than 10: {count_underweight}\")\n",
        "# The data_with_bmi DataFrame now includes a new 'BMI' column\n"
      ]
    },
    {
      "cell_type": "markdown",
      "metadata": {
        "id": "9vBsrgWOXmSD"
      },
      "source": [
        "As we can see the number of data rows who are mostly wrong is 13 in relative to 70000 the removing of those 13 will make no problem at all"
      ]
    },
    {
      "cell_type": "code",
      "execution_count": 11,
      "metadata": {
        "id": "XjVwodT0XmSE"
      },
      "outputs": [],
      "source": [
        "def drop_underweight_rows(dataframe, bmi_column=\"BMI\"):\n",
        "    # Drop rows with BMI less than 10\n",
        "    dataframe.drop(dataframe[dataframe[bmi_column] < 10].index, inplace=True)\n",
        "\n",
        "    return dataframe\n",
        "drop_underweight_rows(df, bmi_column=\"BMI\")\n",
        "df.drop('BMI', axis=1, inplace=True)"
      ]
    },
    {
      "cell_type": "markdown",
      "metadata": {
        "id": "zVjHAletXmSE"
      },
      "source": []
    },
    {
      "cell_type": "code",
      "execution_count": 12,
      "metadata": {
        "id": "mjmZnftfXmSE",
        "outputId": "1eaaa577-5e6c-46ae-c6d6-2abc09ef114f",
        "colab": {
          "base_uri": "https://localhost:8080/"
        }
      },
      "outputs": [
        {
          "output_type": "stream",
          "name": "stdout",
          "text": [
            "Following rows contain outlier blood pressure values:\n",
            "       gender  height  weight  ap_hi  ap_lo  cholesterol  gluc  smoke  alco  \\\n",
            "228         2     183    98.0    160   1100            1     2      1     0   \n",
            "241         2     157    60.0    160   1000            2     1      0     0   \n",
            "260         1     150    83.0    140    800            1     1      0     0   \n",
            "329         1     176    63.0    160   1000            2     2      0     0   \n",
            "345         1     154    81.0    140   1000            2     1      0     0   \n",
            "...       ...     ...     ...    ...    ...          ...   ...    ...   ...   \n",
            "69771       1     167    81.0    160   1000            1     1      0     0   \n",
            "69872       1     152    56.0    160   1000            1     1      0     0   \n",
            "69878       2     168    95.0    160   1000            1     1      0     0   \n",
            "69885       2     166    78.0    170   1000            1     1      0     0   \n",
            "69967       2     168    63.0    140   1000            1     1      0     0   \n",
            "\n",
            "       active  cardio  age_in_years  \n",
            "228         1       1     47.915068  \n",
            "241         0       1     60.087671  \n",
            "260         1       1     49.909589  \n",
            "329         0       1     64.128767  \n",
            "345         1       1     51.243836  \n",
            "...       ...     ...           ...  \n",
            "69771       1       1     63.917808  \n",
            "69872       1       1     59.747945  \n",
            "69878       1       1     58.189041  \n",
            "69885       0       0     61.416438  \n",
            "69967       1       1     58.673973  \n",
            "\n",
            "[1403 rows x 12 columns]\n"
          ]
        }
      ],
      "source": [
        "\n",
        "def find_blood_pressure_outliers(data, sbp_column=\"SystolicBP\", dbp_column=\"DiastolicBP\",\n",
        "                                 low_thresh_sbp=80, high_thresh_sbp=200,\n",
        "                                 low_thresh_dbp=60, high_thresh_dbp=200):\n",
        "\n",
        "  # Filter for outlier values (outside thresholds) in either SBP or DBP\n",
        "  outliers = data[((data[sbp_column] < low_thresh_sbp) | (data[sbp_column] > high_thresh_sbp)) |\n",
        "                ((data[dbp_column] < low_thresh_dbp) | (data[dbp_column] > high_thresh_dbp))]\n",
        "\n",
        "  return outliers\n",
        "\n",
        "# Example usage (assuming your data is in a DataFrame named 'cardio_data')\n",
        "blood_pressure_outliers = find_blood_pressure_outliers(df, sbp_column=\"ap_hi\", dbp_column=\"ap_lo\")\n",
        "\n",
        "if blood_pressure_outliers.empty:\n",
        "  print(\"No blood pressure outliers found in the dataset.\")\n",
        "else:\n",
        "  print(\"Following rows contain outlier blood pressure values:\")\n",
        "  print(blood_pressure_outliers)\n"
      ]
    },
    {
      "cell_type": "code",
      "source": [
        "def count_invalid_blood_pressure(data):\n",
        "\n",
        "  if 'ap_hi' not in data.columns or 'ap_lo' not in data.columns:\n",
        "    print(\"Warning: 'ap_hi' or 'ap_lo' columns not found in the DataFrame.\")\n",
        "    return 0\n",
        "\n",
        "  # Count rows where ap_lo > ap_hi\n",
        "  invalid_count = (data['ap_lo'] > data['ap_hi']).sum()\n",
        "\n",
        "  return invalid_count\n",
        "\n",
        "# Example usage (assuming your data is in a DataFrame named 'cardio_data')\n",
        "invalid_count = count_invalid_blood_pressure(df.copy())\n",
        "\n",
        "print(\"Number of rows with ap_hi lower than ap_lo:\", invalid_count)\n"
      ],
      "metadata": {
        "id": "DFEGuIXsZFxL",
        "outputId": "06140abc-fb33-4a6b-a70c-fdfb53d6ffd9",
        "colab": {
          "base_uri": "https://localhost:8080/"
        }
      },
      "execution_count": 13,
      "outputs": [
        {
          "output_type": "stream",
          "name": "stdout",
          "text": [
            "Number of rows with ap_hi lower than ap_lo: 1233\n"
          ]
        }
      ]
    },
    {
      "cell_type": "code",
      "source": [
        "def drop_invalid_bp(data):\n",
        "\n",
        "  # Filter rows where ap_hi is greater than or equal to ap_lo\n",
        "  data.drop(data[data['ap_hi'] <= data['ap_lo']].index, inplace=True)\n",
        "\n",
        "drop_invalid_bp(df)\n",
        "\n"
      ],
      "metadata": {
        "id": "QiUqQND8ZkW4"
      },
      "execution_count": 14,
      "outputs": []
    },
    {
      "cell_type": "markdown",
      "source": [
        "in the above code we dropped the rows where sbp is lower or equal to dbp"
      ],
      "metadata": {
        "id": "VMtjcMnv6AgM"
      }
    },
    {
      "cell_type": "code",
      "execution_count": 15,
      "metadata": {
        "id": "oVfwWkTcXmSE",
        "outputId": "4bebc8cd-1b1a-4495-d4dc-ccdd9dba4d0c",
        "colab": {
          "base_uri": "https://localhost:8080/"
        }
      },
      "outputs": [
        {
          "output_type": "stream",
          "name": "stdout",
          "text": [
            "                gender    height    weight     ap_hi     ap_lo  cholesterol  \\\n",
            "gender        1.000000  0.498290  0.155995  0.005878  0.065718    -0.036864   \n",
            "height        0.498290  1.000000  0.291701  0.005667  0.036486    -0.050645   \n",
            "weight        0.155995  0.291701  1.000000  0.029671  0.249132     0.141079   \n",
            "ap_hi         0.005878  0.005667  0.029671  1.000000  0.076093     0.022840   \n",
            "ap_lo         0.065718  0.036486  0.249132  0.076093  1.000000     0.157648   \n",
            "cholesterol  -0.036864 -0.050645  0.141079  0.022840  0.157648     1.000000   \n",
            "gluc         -0.021182 -0.018535  0.106980  0.011632  0.074593     0.450385   \n",
            "smoke         0.338682  0.188063  0.067212 -0.001341  0.025658     0.009889   \n",
            "alco          0.171096  0.094405  0.067594  0.001467  0.036920     0.035064   \n",
            "active        0.006025 -0.007357 -0.017689 -0.000485 -0.001723     0.008757   \n",
            "cardio        0.007122 -0.010459  0.179899  0.053192  0.332515     0.221456   \n",
            "age_in_years -0.023111 -0.080988  0.055150  0.020345  0.153545     0.155245   \n",
            "\n",
            "                  gluc     smoke      alco    active    cardio  age_in_years  \n",
            "gender       -0.021182  0.338682  0.171096  0.006025  0.007122     -0.023111  \n",
            "height       -0.018535  0.188063  0.094405 -0.007357 -0.010459     -0.080988  \n",
            "weight        0.106980  0.067212  0.067594 -0.017689  0.179899      0.055150  \n",
            "ap_hi         0.011632 -0.001341  0.001467 -0.000485  0.053192      0.020345  \n",
            "ap_lo         0.074593  0.025658  0.036920 -0.001723  0.332515      0.153545  \n",
            "cholesterol   0.450385  0.009889  0.035064  0.008757  0.221456      0.155245  \n",
            "gluc          1.000000 -0.005850  0.010276 -0.007879  0.089707      0.098970  \n",
            "smoke        -0.005850  1.000000  0.340374  0.025284 -0.016267     -0.047525  \n",
            "alco          0.010276  0.340374  1.000000  0.024557 -0.008580     -0.028624  \n",
            "active       -0.007879  0.025284  0.024557  1.000000 -0.037358     -0.010244  \n",
            "cardio        0.089707 -0.016267 -0.008580 -0.037358  1.000000      0.239298  \n",
            "age_in_years  0.098970 -0.047525 -0.028624 -0.010244  0.239298      1.000000  \n"
          ]
        }
      ],
      "source": [
        "correlation_matrix = df.corr()\n",
        "\n",
        "# Print the correlation matrix (optional)\n",
        "print(correlation_matrix)"
      ]
    },
    {
      "cell_type": "markdown",
      "metadata": {
        "id": "stgKKF4wXmSE"
      },
      "source": [
        "we applied here correlation analysis to see if there is any relation between SBP and DBP and other features to see if we can apply knn to fix the wrong values in these two column but and most values were two low; so they don't have any correlation and from that point applying KNN will be missleading\n",
        "\n",
        "The best thing todo here is to remove those values because they're also around 1000 in a 700000 dataset which will not cause that affect"
      ]
    },
    {
      "cell_type": "code",
      "execution_count": 16,
      "metadata": {
        "id": "gntpqfoNXmSF"
      },
      "outputs": [],
      "source": [
        "\n",
        "def clean_blood_pressure_column(data, column_name, low_thresh, high_thresh, inplace= False):\n",
        "\n",
        "  # Filter for invalid values (negative, zero, or outside thresholds)\n",
        "  invalid_values = (data[column_name] < low_thresh) | (data[column_name] == 0) | (data[column_name] > high_thresh)\n",
        "\n",
        "  if inplace:\n",
        "    # Modify the original DataFrame (inplace)\n",
        "    data.drop(data[invalid_values].index, inplace=True)\n",
        "  else:\n",
        "    # Return a new cleaned DataFrame\n",
        "    cleaned_data = data.drop(data[invalid_values].index)\n",
        "    return cleaned_data\n",
        "\n",
        "\n",
        "\n",
        "df= clean_blood_pressure_column(df, \"ap_hi\", 10, 300)\n",
        "df= clean_blood_pressure_column(df, \"ap_lo\", 10, 300)\n",
        "\n",
        "\n"
      ]
    },
    {
      "cell_type": "markdown",
      "metadata": {
        "id": "NdY-Xv-PXmSF"
      },
      "source": [
        "After consulting exprets we removed extreme wrong data which are above 300 or less than 10 in both column\n"
      ]
    },
    {
      "cell_type": "code",
      "execution_count": 17,
      "metadata": {
        "id": "5-9-wmjgXmSF",
        "outputId": "6b3239ed-2550-4516-afcc-fe97e0ac16ee",
        "colab": {
          "base_uri": "https://localhost:8080/"
        }
      },
      "outputs": [
        {
          "output_type": "stream",
          "name": "stdout",
          "text": [
            "No blood pressure outliers found in the dataset.\n"
          ]
        }
      ],
      "source": [
        "\n",
        "def find_blood_pressure_outliers(data, sbp_column=\"SystolicBP\", dbp_column=\"DiastolicBP\",\n",
        "                                 low_thresh_sbp=10, high_thresh_sbp=300,\n",
        "                                 low_thresh_dbp=10, high_thresh_dbp=300):\n",
        "\n",
        "  # Filter for outlier values (outside thresholds) in either SBP or DBP\n",
        "  outliers = data[((data[sbp_column] < low_thresh_sbp) | (data[sbp_column] > high_thresh_sbp)) |\n",
        "                ((data[dbp_column] < low_thresh_dbp) | (data[dbp_column] > high_thresh_dbp))| (data[dbp_column] >= data[sbp_column])]\n",
        "\n",
        "  return outliers\n",
        "\n",
        "# Example usage (assuming your data is in a DataFrame named 'cardio_data')\n",
        "blood_pressure_outliers = find_blood_pressure_outliers(df, sbp_column=\"ap_hi\", dbp_column=\"ap_lo\")\n",
        "\n",
        "if blood_pressure_outliers.empty:\n",
        "  print(\"No blood pressure outliers found in the dataset.\")\n",
        "else:\n",
        "  print(\"Following rows contain outlier blood pressure values:\")\n",
        "  print(blood_pressure_outliers)\n"
      ]
    },
    {
      "cell_type": "code",
      "execution_count": 18,
      "metadata": {
        "id": "cTAImstJXmSF",
        "outputId": "b9c566d8-cdbc-4ed7-e809-3192b88a7c48",
        "colab": {
          "base_uri": "https://localhost:8080/"
        }
      },
      "outputs": [
        {
          "output_type": "stream",
          "name": "stdout",
          "text": [
            "{(1, 0)}\n",
            "{(3, 1)}\n",
            "{(1, 0)}\n",
            "{(1, 0)}\n",
            "{(1, 0)}\n"
          ]
        }
      ],
      "source": [
        "import pandas as pd\n",
        "\n",
        "def get_max_value(data, column_name):\n",
        "\n",
        "\n",
        "  # Get the maximum value\n",
        "  max_value = data[column_name].max()\n",
        "  min_value = data[column_name].min()\n",
        "  return max_value, min_value\n",
        "\n",
        "#\n",
        "print( { get_max_value(df, \"active\")})\n",
        "print( {get_max_value(df, \"gluc\")})\n",
        "print( { get_max_value(df, \"smoke\")})\n",
        "print( { get_max_value(df, \"alco\")})\n",
        "print ({get_max_value(df,\"cardio\")})\n"
      ]
    },
    {
      "cell_type": "markdown",
      "metadata": {
        "id": "Dht16Hw5XmSF"
      },
      "source": [
        "now we checked all the columns\n",
        "No missing values\n",
        "no wrong values\n"
      ]
    },
    {
      "cell_type": "code",
      "source": [
        "def has_negative_values(data, column_name):\n",
        "\n",
        "  # Check for negative values using a boolean Series\n",
        "  has_negative = data[column_name] <= 0\n",
        "\n",
        "  # Check if any element in the Series is True (meaning there's at least one negative value)\n",
        "  return has_negative.any()\n",
        "\n",
        "# Example usage (assuming your data is in a DataFrame named 'cardio_data')\n",
        "has_negative_systolic = has_negative_values(df, \"ap_lo\")\n",
        "has_negative_diastolic = has_negative_values(df, \"ap_hi\")\n",
        "\n",
        "print(f\"Systolic Blood Pressure has negative values: {has_negative_systolic}\")\n",
        "print(f\"Diastolic Blood Pressure has negative values: {has_negative_diastolic}\")\n"
      ],
      "metadata": {
        "id": "kbdkZiARw0GQ",
        "outputId": "3740f971-d929-4306-ac53-f3a7535ed0ef",
        "colab": {
          "base_uri": "https://localhost:8080/"
        }
      },
      "execution_count": 19,
      "outputs": [
        {
          "output_type": "stream",
          "name": "stdout",
          "text": [
            "Systolic Blood Pressure has negative values: False\n",
            "Diastolic Blood Pressure has negative values: False\n"
          ]
        }
      ]
    },
    {
      "cell_type": "code",
      "source": [
        "import matplotlib.pyplot as plt\n",
        "import numpy as np\n",
        "\n",
        "# Sample data (replace with your actual data)\n",
        "data = np.random.normal(size=100)  # Generate some normally distributed data\n",
        "\n",
        "# Histogram\n",
        "plt.hist(data, bins=20, density=True)  # Plot the histogram with 20 bins and normalize the area\n",
        "plt.xlabel(\"Value\")\n",
        "plt.ylabel(\"Density\")\n",
        "plt.title(\"Histogram of Sample Data\")\n",
        "plt.grid(True)\n",
        "plt.show()\n"
      ],
      "metadata": {
        "id": "Zsj2PkVf1tsW",
        "outputId": "5b8c32d4-8b87-4a1f-f127-a8a398bccd83",
        "colab": {
          "base_uri": "https://localhost:8080/",
          "height": 472
        }
      },
      "execution_count": 20,
      "outputs": [
        {
          "output_type": "display_data",
          "data": {
            "text/plain": [
              "<Figure size 640x480 with 1 Axes>"
            ],
            "image/png": "[encoded data removed]"
          },
          "metadata": {}
        }
      ]
    },
    {
      "cell_type": "code",
      "source": [
        "correlation = df.corr()\n",
        "correlation['cardio'].sort_values(ascending=False)\n",
        "plt.figure(figsize=(10,8))\n",
        "plt.title('Correlation of Attributes with cardio variable')\n",
        "a = sns.heatmap(correlation, square=True, annot=True, fmt='.2f', linecolor='white')\n",
        "a.set_xticklabels(a.get_xticklabels(), rotation=90)\n",
        "a.set_yticklabels(a.get_yticklabels(), rotation=30)\n",
        "plt.show()"
      ],
      "metadata": {
        "id": "tdjNDYJglMee",
        "outputId": "336dee7d-51aa-4fd6-fa26-1c185f4d3d21",
        "colab": {
          "base_uri": "https://localhost:8080/",
          "height": 775
        }
      },
      "execution_count": 29,
      "outputs": [
        {
          "output_type": "display_data",
          "data": {
            "text/plain": [
              "<Figure size 1000x800 with 2 Axes>"
            ],
            "image/png": "[encoded data removed]"
          },
          "metadata": {}
        }
      ]
    },
    {
      "cell_type": "markdown",
      "metadata": {
        "id": "VSdC-LF_XmSF"
      },
      "source": [
        "now it is time to split the cleaned data into training and testing dataset"
      ]
    },
    {
      "cell_type": "code",
      "execution_count": 21,
      "metadata": {
        "id": "BpiI5MXVXmSF"
      },
      "outputs": [],
      "source": [
        "X = df.drop(\"cardio\", axis=1)\n",
        "Y = df[\"cardio\"]\n",
        "X_train , X_test, y_train, y_test = train_test_split(X, Y, test_size=0.2, random_state=42)"
      ]
    },
    {
      "cell_type": "markdown",
      "source": [
        "here we're going to choose which is the best model that fits our data looking using lazyPredict which will test three models |"
      ],
      "metadata": {
        "id": "zWkT4dpUmfR8"
      }
    },
    {
      "cell_type": "code",
      "source": [
        "from sklearn.preprocessing import StandardScaler\n",
        "\n",
        "# Create a StandardScaler object\n",
        "scaler = StandardScaler()\n",
        "\n",
        "# Normalize the training data\n",
        "X_train_normalized = scaler.fit_transform(X_train)\n",
        "\n",
        "# Normalize the testing data\n",
        "X_test_normalized = scaler.transform(X_test)\n"
      ],
      "metadata": {
        "id": "z3N3ibFxlu-i"
      },
      "execution_count": 22,
      "outputs": []
    },
    {
      "cell_type": "markdown",
      "source": [
        "in above we tried to **standardize data**\n",
        "\n",
        "\n",
        "in the below code we tried to **normalize data**\n",
        "\n",
        "to compare them and see which one will give us **more accurate results**"
      ],
      "metadata": {
        "id": "dnjummxLa5RP"
      }
    },
    {
      "cell_type": "code",
      "source": [
        "from sklearn.preprocessing import MinMaxScaler\n",
        "\n",
        "\n",
        "# Create an instance of the MinMaxScaler\n",
        "scaler = MinMaxScaler()\n",
        "\n",
        "# Fit the scaler on X_train (important to learn from training data)\n",
        "scaler.fit(X_train)\n",
        "\n",
        "# Transform X_train and X_test using the fitted scaler\n",
        "X_train_scaled = scaler.transform(X_train)\n",
        "X_test_scaled = scaler.transform(X_test)\n",
        "\n",
        "# Now you have normalized X_train_scaled and X_test_scaled\n"
      ],
      "metadata": {
        "id": "NJla-Yu2T5D8"
      },
      "execution_count": 32,
      "outputs": []
    },
    {
      "cell_type": "code",
      "source": [
        "models = {}\n",
        "\n",
        "\n",
        "models[\"CART\"] = DecisionTreeClassifier(criterion=\"gini\")\n",
        "models[\"CART\"].fit(X_train_normalized, y_train)\n",
        "\n",
        "\n",
        "models[\"ID3\"] = DecisionTreeClassifier(criterion = \"entropy\")\n",
        "models[\"ID3\"].fit(X_train_normalized, y_train)\n",
        "\n",
        "models[\"C4.5\"] = DecisionTreeClassifier(criterion='entropy', splitter='best')\n",
        "models[\"C4.5\"].fit(X_train_normalized, y_train)\n",
        "\n",
        "\n",
        "\n",
        "models[\"KNN\"] = KNeighborsClassifier(n_neighbors=5)  # Adjust n_neighbors as needed\n",
        "models[\"KNN\"].fit(X_train_normalized, y_train)\n",
        "\n",
        "\n",
        "for name, model in models.items():\n",
        "  y_pred = model.predict(X_test_normalized)\n",
        "  accuracy = accuracy_score(y_test, y_pred)\n",
        "  print(f\"{name} Accuracy: {accuracy:.4f}\")"
      ],
      "metadata": {
        "id": "6i8bpCvUXpfA",
        "outputId": "966c603b-1b3f-4c02-a344-c2465d4d0262",
        "colab": {
          "base_uri": "https://localhost:8080/"
        }
      },
      "execution_count": 23,
      "outputs": [
        {
          "output_type": "stream",
          "name": "stdout",
          "text": [
            "CART Accuracy: 0.6351\n",
            "ID3 Accuracy: 0.6311\n",
            "C4.5 Accuracy: 0.6305\n",
            "KNN Accuracy: 0.6924\n"
          ]
        }
      ]
    },
    {
      "cell_type": "markdown",
      "source": [
        "as the follow the KNN algorithm had the most accuracy score in the data so we're going now to apply normailzation and standardization then elbow method to find the best K for the data"
      ],
      "metadata": {
        "id": "ZJr4byIArE-C"
      }
    },
    {
      "cell_type": "code",
      "source": [
        "k_values = range(30, 40)  # Adjust the range as needed\n",
        "\n",
        "# Create an empty dictionary to store k values and accuracies\n",
        "k_accuracies = {}\n",
        "\n",
        "# Iterate through each k value\n",
        "for k in k_values:\n",
        "  # Create a KNN classifier with the current k\n",
        "  knn = KNeighborsClassifier(n_neighbors=k)\n",
        "\n",
        "  # Train the model\n",
        "  knn.fit(X_train_normalized, y_train)\n",
        "\n",
        "  # Predict on the testing set\n",
        "  y_pred = knn.predict(X_test_normalized)\n",
        "\n",
        "  # Calculate accuracy\n",
        "  accuracy = accuracy_score(y_test, y_pred)\n",
        "\n",
        "  # Store the accuracy for this k value in the dictionary\n",
        "  k_accuracies[k] = accuracy\n",
        "\n",
        "# Print the k values and their corresponding accuracies\n",
        "for k, accuracy in k_accuracies.items():\n",
        "  print(f\"k={k}: Accuracy: {accuracy:.4f}\")"
      ],
      "metadata": {
        "id": "ZH71Yom8rESc",
        "outputId": "43ebaf0e-396a-4b44-f888-885c0149f147",
        "colab": {
          "base_uri": "https://localhost:8080/"
        }
      },
      "execution_count": 25,
      "outputs": [
        {
          "output_type": "stream",
          "name": "stdout",
          "text": [
            "k=30: Accuracy: 0.7232\n",
            "k=31: Accuracy: 0.7231\n",
            "k=32: Accuracy: 0.7231\n",
            "k=33: Accuracy: 0.7240\n",
            "k=34: Accuracy: 0.7250\n",
            "k=35: Accuracy: 0.7251\n",
            "k=36: Accuracy: 0.7251\n",
            "k=37: Accuracy: 0.7239\n",
            "k=38: Accuracy: 0.7245\n",
            "k=39: Accuracy: 0.7241\n"
          ]
        }
      ]
    },
    {
      "cell_type": "code",
      "source": [
        "print(df.info())\n",
        "print(df)"
      ],
      "metadata": {
        "id": "t2vb28_TdaQ6",
        "outputId": "99c686c0-63f1-468c-ad12-5eb96856c0e5",
        "colab": {
          "base_uri": "https://localhost:8080/"
        }
      },
      "execution_count": 37,
      "outputs": [
        {
          "output_type": "stream",
          "name": "stdout",
          "text": [
            "<class 'pandas.core.frame.DataFrame'>\n",
            "Index: 68696 entries, 0 to 69999\n",
            "Data columns (total 12 columns):\n",
            " #   Column        Non-Null Count  Dtype  \n",
            "---  ------        --------------  -----  \n",
            " 0   gender        68696 non-null  int64  \n",
            " 1   height        68696 non-null  int64  \n",
            " 2   weight        68696 non-null  float64\n",
            " 3   ap_hi         68696 non-null  int64  \n",
            " 4   ap_lo         68696 non-null  int64  \n",
            " 5   cholesterol   68696 non-null  int64  \n",
            " 6   gluc          68696 non-null  int64  \n",
            " 7   smoke         68696 non-null  int64  \n",
            " 8   alco          68696 non-null  int64  \n",
            " 9   active        68696 non-null  int64  \n",
            " 10  cardio        68696 non-null  int64  \n",
            " 11  age_in_years  68696 non-null  float64\n",
            "dtypes: float64(2), int64(10)\n",
            "memory usage: 6.8 MB\n",
            "None\n",
            "       gender  height  weight  ap_hi  ap_lo  cholesterol  gluc  smoke  alco  \\\n",
            "0           2     168    62.0    110     80            1     1      0     0   \n",
            "1           1     156    85.0    140     90            3     1      0     0   \n",
            "2           1     165    64.0    130     70            3     1      0     0   \n",
            "3           2     169    82.0    150    100            1     1      0     0   \n",
            "4           1     156    56.0    100     60            1     1      0     0   \n",
            "...       ...     ...     ...    ...    ...          ...   ...    ...   ...   \n",
            "69995       2     168    76.0    120     80            1     1      1     0   \n",
            "69996       1     158   126.0    140     90            2     2      0     0   \n",
            "69997       2     183   105.0    180     90            3     1      0     1   \n",
            "69998       1     163    72.0    135     80            1     2      0     0   \n",
            "69999       1     170    72.0    120     80            2     1      0     0   \n",
            "\n",
            "       active  cardio  age_in_years  \n",
            "0           1       0     50.391781  \n",
            "1           1       1     55.419178  \n",
            "2           0       1     51.663014  \n",
            "3           1       1     48.282192  \n",
            "4           0       0     47.873973  \n",
            "...       ...     ...           ...  \n",
            "69995       1       0     52.712329  \n",
            "69996       1       1     61.920548  \n",
            "69997       0       1     52.235616  \n",
            "69998       0       1     61.454795  \n",
            "69999       1       0     56.273973  \n",
            "\n",
            "[68696 rows x 12 columns]\n"
          ]
        }
      ]
    },
    {
      "cell_type": "code",
      "source": [
        "from sklearn.metrics import confusion_matrix\n",
        "from sklearn.metrics import f1_score\n",
        "\n",
        "\n",
        "knn = KNeighborsClassifier(n_neighbors=27)\n",
        "\n",
        "# Train the model\n",
        "knn.fit(x_train_normalized, y_train)\n",
        "\n",
        "# Predict on the testing set\n",
        "y_pred = knn.predict(x_test_normalized)\n",
        "\n",
        "\n",
        "cm = confusion_matrix(y_test, y_pred)\n",
        "\n",
        "print('Confusion matrix\\n\\n', cm)\n",
        "print('\\nTrue Positives(TP) = ', cm[0,0])\n",
        "print('\\nTrue Negatives(TN) = ', cm[1,1])\n",
        "print('\\nFalse Positives(FP) = ', cm[0,1])\n",
        "print('\\nFalse Negatives(FN) = ', cm[1,0])\n",
        "\n",
        "def calculate_precision_recall(true_positives, false_positives, false_negatives):\n",
        "\n",
        "  # Handle zero denominator cases (avoid division by zero)\n",
        "  if true_positives + false_positives == 0:\n",
        "    precision = 0.0\n",
        "  else:\n",
        "    precision = true_positives / float(true_positives + false_positives)\n",
        "\n",
        "  if true_positives + false_negatives == 0:\n",
        "    recall = 0.0\n",
        "  else:\n",
        "    recall = true_positives / float(true_positives + false_negatives)\n",
        "\n",
        "  return {\"precision\": precision, \"recall\": recall}\n",
        "\n",
        "metrics = calculate_precision_recall(cm[0,0], cm[0,1], cm[1,0])\n",
        "\n",
        "f1 = f1_score(y_test, y_pred)\n",
        "\n",
        "print(\"F1 Score:\", f1)\n",
        "print(f\"Precision: {metrics['precision']:.4f}\")\n",
        "print(f\"Recall: {metrics['recall']:.4f}\")\n"
      ],
      "metadata": {
        "id": "Tfc156zv3mI-",
        "outputId": "e728d100-daeb-4781-feac-911561bfe144",
        "colab": {
          "base_uri": "https://localhost:8080/"
        }
      },
      "execution_count": 36,
      "outputs": [
        {
          "output_type": "stream",
          "name": "stdout",
          "text": [
            "Confusion matrix\n",
            "\n",
            " [[5287 1646]\n",
            " [2170 4637]]\n",
            "\n",
            "True Positives(TP) =  5287\n",
            "\n",
            "True Negatives(TN) =  4637\n",
            "\n",
            "False Positives(FP) =  1646\n",
            "\n",
            "False Negatives(FN) =  2170\n",
            "F1 Score: 0.7084797555385791\n",
            "Precision: 0.7626\n",
            "Recall: 0.7090\n"
          ]
        }
      ]
    }
  ],
  "metadata": {
    "kernelspec": {
      "display_name": "Python 3",
      "language": "python",
      "name": "python3"
    },
    "language_info": {
      "codemirror_mode": {
        "name": "ipython",
        "version": 3
      },
      "file_extension": ".py",
      "mimetype": "text/x-python",
      "name": "python",
      "nbconvert_exporter": "python",
      "pygments_lexer": "ipython3",
      "version": "3.11.9"
    },
    "colab": {
      "provenance": [],
      "include_colab_link": true
    }
  },
  "nbformat": 4,
  "nbformat_minor": 0
}